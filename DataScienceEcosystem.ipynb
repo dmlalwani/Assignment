{
 "cells": [
  {
   "cell_type": "markdown",
   "id": "727882c8-9a50-4559-b7a2-84bc01c8b847",
   "metadata": {},
   "source": [
    "# Data Science Tools and Ecosystem"
   ]
  },
  {
   "cell_type": "markdown",
   "id": "e0a32998-4a22-4c2b-9861-3f8d6708403b",
   "metadata": {},
   "source": [
    "In this notebook, Data Science Tools and Ecosystem are summarized."
   ]
  },
  {
   "cell_type": "markdown",
   "id": "7edb468d-be52-48ac-9faa-d59dcf4a9e2a",
   "metadata": {},
   "source": [
    "**Objectives:**\n",
    "- List popular languages for Data Science\n",
    "- List common libararies for Data Science\n",
    "- Table of common Data Science Tools"
   ]
  },
  {
   "cell_type": "markdown",
   "id": "113cb2dc-e31d-415f-bd34-96859e68b3af",
   "metadata": {},
   "source": [
    "Some of the popular languages that Data Scientists use are:\n",
    "\n",
    "1. Python\n",
    "2. R\n",
    "3. C++"
   ]
  },
  {
   "cell_type": "markdown",
   "id": "98ab8b20-07e1-4aeb-a32e-d14ea47927dd",
   "metadata": {},
   "source": [
    "Some of the commonly used libraries used by Data Scientists include:\n",
    "\n",
    "1. Matplotlib\n",
    "2. SciPy\n",
    "3. Numpy"
   ]
  },
  {
   "cell_type": "markdown",
   "id": "ec9e1cdd-d4d2-4d47-b406-31fb6a77d298",
   "metadata": {},
   "source": [
    "|Data Science Tools |\n",
    "| ----------------- |\n",
    "| RStudio |\n",
    "| Apache Spark |\n",
    "| TensorFlow   |"
   ]
  },
  {
   "cell_type": "markdown",
   "id": "607cf8a5-9626-412f-b45d-21f39a6aabbf",
   "metadata": {},
   "source": [
    "### Below are a few examples of evaluating arithmetic expressions in Python."
   ]
  },
  {
   "cell_type": "code",
   "execution_count": 1,
   "id": "d6b084b4-0558-493a-9f36-39e49c3b4384",
   "metadata": {
    "tags": []
   },
   "outputs": [
    {
     "name": "stdout",
     "output_type": "stream",
     "text": [
      "17\n"
     ]
    }
   ],
   "source": [
    "# This a simple arithmetic expression to mutiply then add integers\n",
    "x = (3*4)+5\n",
    "print(x)"
   ]
  },
  {
   "cell_type": "code",
   "execution_count": 4,
   "id": "833a4886-b19b-4158-9b17-a23215c30c8d",
   "metadata": {
    "tags": []
   },
   "outputs": [
    {
     "name": "stdout",
     "output_type": "stream",
     "text": [
      "3.3333333333333335\n"
     ]
    }
   ],
   "source": [
    "# This will convert 200 minutes to hours by diving by 60\n",
    "x = 200\n",
    "y = 60\n",
    "z = x/y\n",
    "print(z)"
   ]
  },
  {
   "cell_type": "markdown",
   "id": "67ec565d-1cce-4345-ba5b-c13e1897a781",
   "metadata": {},
   "source": [
    "## Author\n",
    "Darsh Lalwani"
   ]
  }
 ],
 "metadata": {
  "kernelspec": {
   "display_name": "Python",
   "language": "python",
   "name": "conda-env-python-py"
  },
  "language_info": {
   "codemirror_mode": {
    "name": "ipython",
    "version": 3
   },
   "file_extension": ".py",
   "mimetype": "text/x-python",
   "name": "python",
   "nbconvert_exporter": "python",
   "pygments_lexer": "ipython3",
   "version": "3.7.12"
  }
 },
 "nbformat": 4,
 "nbformat_minor": 5
}
